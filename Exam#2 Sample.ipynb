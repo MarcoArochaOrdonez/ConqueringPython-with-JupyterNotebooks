{
 "cells": [
  {
   "cell_type": "markdown",
   "id": "e5429e6c",
   "metadata": {},
   "source": [
    "# Exam#2 Sample\n",
    "The following is a sample of problems in a test."
   ]
  },
  {
   "cell_type": "markdown",
   "id": "5a84e080",
   "metadata": {},
   "source": [
    "P#1. (original problem) Write a Python program to process a list of positive numbers into three sets: (1) multiple-of-3 set, (2) multiple-of-5 set, and (3) multiple-of-7 set.  A given number from the list can be in more than one set. List elements must be fed one by one until user is advised to stop by feeding -1.  Report the number of elements in each set, their sum, and the smallest sum.  Test your program with the list below (Although your program will be tested with different sets of data). Do not need to write documentation. \n",
    "\n",
    "Sample List: 3, 5, 7, 10, 12, 14, 15, 21\n",
    "\n",
    "The original problem is \"divided\" into five small problems below:"
   ]
  },
  {
   "cell_type": "markdown",
   "id": "55c4b2fc",
   "metadata": {},
   "source": [
    "**Top Down Design Approach: {{{DIVIDE AND CONQUER}}}**\n",
    "- Several small problems are constructed from the original problem\n",
    "- Solving each small problem will get you closer to the solution of the original problem.\n",
    "- You must be able to (1) create small problems, (2) solve each, and (3) combinate the solution codes to build the original problem solution. \n",
    "- Not all students need to split a problem into smaller ones, many times an original problem is already a \"small\" problem and can be solved directly.\n",
    "\n"
   ]
  },
  {
   "cell_type": "markdown",
   "id": "8a969c3f",
   "metadata": {},
   "source": [
    "**P#1.1 Let's start for the input.  Write a program to input a positive list of numbers (and print them) until the user hits negative one (i.e., -1).**"
   ]
  },
  {
   "cell_type": "code",
   "execution_count": 3,
   "id": "b43fbb41",
   "metadata": {},
   "outputs": [
    {
     "name": "stdout",
     "output_type": "stream",
     "text": [
      "Enter the first number or minus one to stop3\n",
      "3\n",
      "Enter the next number or minus one to stop5\n",
      "5\n",
      "Enter the next number or minus one to stop7\n",
      "7\n",
      "Enter the next number or minus one to stop-1\n"
     ]
    }
   ],
   "source": [
    "x=int(input(\"Enter the first number or minus one to stop\"))\n",
    "while x != -1:\n",
    "    print(x)\n",
    "    x=int(input(\"Enter the next number or minus one to stop\"))\n",
    "# Sample list: 3, 5, 7"
   ]
  },
  {
   "cell_type": "markdown",
   "id": "502cf9e4",
   "metadata": {},
   "source": [
    "- Note we have used -1 to stop both the loop and feeding new elements\n",
    "- Also notice that list elements were not stored but they might "
   ]
  },
  {
   "cell_type": "markdown",
   "id": "ae175cd5",
   "metadata": {},
   "source": [
    "**P#1.2 Write a Python program to feed a list of positive numbers and print only the multiple-of-3.**"
   ]
  },
  {
   "cell_type": "code",
   "execution_count": null,
   "id": "67452fae",
   "metadata": {},
   "outputs": [],
   "source": [
    "x=int(input(\"Enter the first number or minus one to stop\"))\n",
    "while x != -1:\n",
    "    if x%3==0:\n",
    "        print(x)\n",
    "    x=int(input(\"Enter the next number or minus one to stop\"))\n",
    "# Sample list: 3, 5, 7, 10, 12, 14, 15, 21, run it"
   ]
  },
  {
   "cell_type": "markdown",
   "id": "afa5f71e",
   "metadata": {},
   "source": [
    "**P#1.3 Write a Python program to feed a list of positive numbers and print the multiple-of-3, multiple-of-5, and multiple-of-7. A given number from the list can be in more than one set**"
   ]
  },
  {
   "cell_type": "code",
   "execution_count": null,
   "id": "72644257",
   "metadata": {},
   "outputs": [],
   "source": [
    "x=int(input(\"Enter the first number or minus one to stop\"))\n",
    "while x != -1:\n",
    "    if x%3==0:\n",
    "        print(x, \"is multiple of 3\")\n",
    "    if x%5==0:\n",
    "        print(x, \"is multiple of 5\")\n",
    "    if x%7==0:\n",
    "        print(x, \"is multiple of 7\")        \n",
    "    x=int(input(\"Enter the next number or minus one to stop\"))\n",
    "# Sample list: 3, 5, 7, 10, 12, 14, 15, 21, run it"
   ]
  },
  {
   "cell_type": "markdown",
   "id": "a091863c",
   "metadata": {},
   "source": [
    "**P#1.4 Write a Python program to feed a list of positive numbers and print the multiple-of-3, multiple-of-5, and multiple-of-7. Report the number of elements in each set**"
   ]
  },
  {
   "cell_type": "code",
   "execution_count": 5,
   "id": "5dc8e80f",
   "metadata": {
    "scrolled": false
   },
   "outputs": [
    {
     "name": "stdout",
     "output_type": "stream",
     "text": [
      "Enter the first number or minus one to stop-1\n",
      "0 elements are multiple of 3\n",
      "0 elements are multiple of 5\n",
      "0 elements are multiple of 7\n"
     ]
    }
   ],
   "source": [
    "c3=c5=c7=0\n",
    "x=int(input(\"Enter the first number or minus one to stop\"))\n",
    "while x != -1:\n",
    "    if x%3==0:\n",
    "        print(x, \"is multiple of 3\")\n",
    "        c3=c3+1   # counts multiple of three\n",
    "    if x%5==0:\n",
    "        print(x, \"is multiple of 5\")\n",
    "        c5=c5+1   # counts multiple of five\n",
    "    if x%7==0:\n",
    "        print(x, \"is multiple of 7\")       \n",
    "        c7=c7+1\n",
    "    x=int(input(\"Enter the next number or minus one to stop\"))\n",
    "\n",
    "print(c3,\"elements are multiple of 3\")\n",
    "print(c5,\"elements are multiple of 5\")\n",
    "print(c7,\"elements are multiple of 7\")\n",
    "# Sample list: 3, 5, 7, 10, 12, 14, 15, 21, run it"
   ]
  },
  {
   "cell_type": "markdown",
   "id": "d5283849",
   "metadata": {},
   "source": [
    "P#1.5 Write a Python program to process a list of positive numbers into three sets: (1) multiple-of-3 set, (2) multiple-of-5 set, and (3) multiple-of-7 set.  A given number from the list can be in more than one set. List elements must be fed one by one until user is advised to stop by feeding -1.  Report the number of elements in each set and their sum. Test your program with the list below (Although in an actual test, your program will be tested with different sets of data). Do not need to write documentation. \n",
    "\n",
    "List sample: 3, 5, 7, 10, 12, 14, 15, 21"
   ]
  },
  {
   "cell_type": "code",
   "execution_count": null,
   "id": "1698d0f9",
   "metadata": {},
   "outputs": [],
   "source": [
    "c3=c5=c7=0\n",
    "S3=S5=S7=0\n",
    "x=int(input(\"Enter the first number or minus one to stop\"))\n",
    "while x != -1:\n",
    "    if x%3==0:\n",
    "        print(x, \"is multiple of 3\")\n",
    "        c3=c3+1   # counts multiple of three\n",
    "        S3=S3+x\n",
    "    if x%5==0:\n",
    "        print(x, \"is multiple of 5\")\n",
    "        c5=c5+1   # counts multiple of five\n",
    "        S5=S5+x\n",
    "    if x%7==0:\n",
    "        print(x, \"is multiple of 7\")       \n",
    "        c7=c7+1\n",
    "        S7=S7+x\n",
    "    x=int(input(\"Enter the next number or minus one to stop\"))\n",
    "\n",
    "print(c3,\"elements are multiple of 3 and their sum is\",S3)\n",
    "print(c5,\"elements are multiple of 5 and their sum is\",S5)\n",
    "print(c7,\"elements are multiple of 7 and their sum is\",S7)\n",
    "# Sample list: 3, 5, 7, 10, 12, 14, 15, 21, run it"
   ]
  },
  {
   "cell_type": "markdown",
   "id": "150fca04",
   "metadata": {},
   "source": [
    "### Are you ready to solve the original problem P#1?\n",
    "- You must be able to combine the ideas and useful solution codes from the \"small\" problems into the solution of the original problem.\n",
    "- Here is one posible solution for P#1:\n"
   ]
  },
  {
   "cell_type": "code",
   "execution_count": 6,
   "id": "e9726d76",
   "metadata": {},
   "outputs": [
    {
     "name": "stdout",
     "output_type": "stream",
     "text": [
      "Enter the first number or minus one to stop3\n",
      "3 is multiple of 3\n",
      "Enter the next number or minus one to stop5\n",
      "5 is multiple of 5\n",
      "Enter the next number or minus one to stop7\n",
      "7 is multiple of 7\n",
      "Enter the next number or minus one to stop10\n",
      "10 is multiple of 5\n",
      "Enter the next number or minus one to stop12\n",
      "12 is multiple of 3\n",
      "Enter the next number or minus one to stop14\n",
      "14 is multiple of 7\n",
      "Enter the next number or minus one to stop15\n",
      "15 is multiple of 3\n",
      "15 is multiple of 5\n",
      "Enter the next number or minus one to stop21\n",
      "21 is multiple of 3\n",
      "21 is multiple of 7\n",
      "Enter the next number or minus one to stop-1\n",
      "4 elements are multiple of 3 and their sum is 51\n",
      "3 elements are multiple of 5 and their sum is 30\n",
      "3 elements are multiple of 7 and their sum is 42\n",
      "The largest sum is 51 which is the set multiple-of- 3\n"
     ]
    }
   ],
   "source": [
    "# Count and Sum each Set\n",
    "c3=c5=c7=S3=S5=S7=0\n",
    "\n",
    "x=int(input(\"Enter the first number or minus one to stop\"))\n",
    "while x != -1:\n",
    "    if x%3==0:\n",
    "        print(x, \"is multiple of 3\")\n",
    "        c3=c3+1   # counts multiple of three\n",
    "        S3=S3+x\n",
    "    if x%5==0:\n",
    "        print(x, \"is multiple of 5\")\n",
    "        c5=c5+1   # counts multiple of five\n",
    "        S5=S5+x\n",
    "    if x%7==0:\n",
    "        print(x, \"is multiple of 7\")       \n",
    "        c7=c7+1\n",
    "        S7=S7+x\n",
    "    x=int(input(\"Enter the next number or minus one to stop\"))\n",
    "\n",
    "# Output\n",
    "print(c3,\"elements are multiple of 3 and their sum is\",S3)\n",
    "print(c5,\"elements are multiple of 5 and their sum is\",S5)\n",
    "print(c7,\"elements are multiple of 7 and their sum is\",S7)\n",
    "\n",
    "# Find the largest sum:\n",
    "Largest=S3\n",
    "M=3    # M labels the Largest set to identify later which one it is.\n",
    "if S5>=Largest:\n",
    "    Largest=S5\n",
    "    M=5\n",
    "if S7>=Largest:\n",
    "    Largest=S7\n",
    "    M=7\n",
    "\n",
    "# Output\n",
    "print(\"The largest sum is\",Largest,\"which is the multiple-of-\",M, \"set\")\n",
    "# Sample list: 3, 5, 7, 10, 12, 14, 15, 21, run it"
   ]
  },
  {
   "cell_type": "markdown",
   "id": "98207c97",
   "metadata": {},
   "source": [
    "- You should run all the codes in this document and play with them\n",
    "- In a test you will be submitting your codes directly into the Moodle platform, which will tell you rigth away if you are right or wrong.  There will be a number of penalty-free solution trials after which you will be penalized with up to 10% each time. \n",
    "- During a test you will have access to Anaconda/Spyder or REPL.IT, where you can try your solution code before submitting it to Moodle, and then you can transfer it to Moodle.  Moodle will take your solution and test it.\n"
   ]
  },
  {
   "cell_type": "markdown",
   "id": "29a61cbe",
   "metadata": {},
   "source": [
    "# EXITO"
   ]
  },
  {
   "cell_type": "code",
   "execution_count": null,
   "id": "4c37370b",
   "metadata": {},
   "outputs": [],
   "source": []
  }
 ],
 "metadata": {
  "kernelspec": {
   "display_name": "Python 3 (ipykernel)",
   "language": "python",
   "name": "python3"
  },
  "language_info": {
   "codemirror_mode": {
    "name": "ipython",
    "version": 3
   },
   "file_extension": ".py",
   "mimetype": "text/x-python",
   "name": "python",
   "nbconvert_exporter": "python",
   "pygments_lexer": "ipython3",
   "version": "3.9.7"
  }
 },
 "nbformat": 4,
 "nbformat_minor": 5
}
