{
 "cells": [
  {
   "cell_type": "markdown",
   "id": "769ccaf8",
   "metadata": {},
   "source": [
    "# Classes and Objects-Part-2"
   ]
  },
  {
   "cell_type": "markdown",
   "id": "1e9171c3",
   "metadata": {},
   "source": [
    "## Example-1: Vertical Motion of a Projectile (Extended)"
   ]
  },
  {
   "cell_type": "code",
   "execution_count": 13,
   "id": "c6ca8d6e",
   "metadata": {},
   "outputs": [
    {
     "name": "stdout",
     "output_type": "stream",
     "text": [
      "y(t=0.2; v0=5) = 0.8038 with the formula: y(t)=v0*t - 0.5*g*t**2; and v0=5\n"
     ]
    }
   ],
   "source": [
    "class Y:\n",
    "    def __init__(self, v0):\n",
    "        self.v0 = v0\n",
    "        self.g = 9.81\n",
    "    def value(self, t):\n",
    "        # Print y(t)\n",
    "        return self.v0*t - 0.5*self.g*t**2\n",
    "    def formula(self):\n",
    "        # Print the formula:\n",
    "        return 'y(t)=v0*t - 0.5*g*t**2; and v0=%g'%self.v0\n",
    "\n",
    "y = Y(5)\n",
    "t = 0.2\n",
    "v = y.value(t)\n",
    "print('y(t=%g; v0=%g) = %g'% (t, y.v0, v),'with the formula:', y.formula())"
   ]
  },
  {
   "cell_type": "markdown",
   "id": "1357a4ac",
   "metadata": {},
   "source": [
    "## Example-2: Fibonacci sequence"
   ]
  },
  {
   "cell_type": "code",
   "execution_count": 14,
   "id": "34f6b224",
   "metadata": {},
   "outputs": [
    {
     "name": "stdout",
     "output_type": "stream",
     "text": [
      "[0, 1, 1, 2, 3, 5]\n"
     ]
    }
   ],
   "source": [
    "\"\"\"\n",
    "Fibonacci_OOP.py\n",
    "Computes Fibonacci numbers with OOP\n",
    "n=position of last Fibonacio computed; positions start at zero\n",
    "a=first Fib; b= second Fib\n",
    "\n",
    "Created on Sat Dec 11 00:29:31 2021\n",
    "@author: marco\n",
    "\"\"\"\n",
    "\n",
    "class Fibonacci:\n",
    "    def __init__(self,a,b,n):\n",
    "        self.a, self.b, self.n = a, b, n\n",
    "\n",
    "    def seq(self):\n",
    "        a,b,n=self.a,self.b,self.n   # quick forms    \n",
    "        ca=[a,b]                    # initialized with first two Fibos\n",
    "        for i in range(2,n):\n",
    "            c=a+b\n",
    "            b,a=c,b  # roll values\n",
    "            ca.append(c)\n",
    "        return ca\n",
    "            \n",
    "F=Fibonacci(0,1,6)\n",
    "print(F.seq())\n"
   ]
  },
  {
   "cell_type": "markdown",
   "id": "a717187b",
   "metadata": {},
   "source": [
    "### Example-3: Trapezoidal Integration"
   ]
  },
  {
   "cell_type": "code",
   "execution_count": 15,
   "id": "7c175cf4",
   "metadata": {},
   "outputs": [
    {
     "name": "stdout",
     "output_type": "stream",
     "text": [
      "2.666800000000001\n"
     ]
    }
   ],
   "source": [
    "\"\"\"\n",
    "TrapezoidalIntegration_OOP.py\n",
    "Trapezoidal Integration by OOP programming\n",
    "\n",
    "This is a modified example from the book: A Primer in Scientific Programming in Pyhton by H. Langtangen\n",
    "Created on Sat Dec 11 00:00:11 2021\n",
    "@author: marco\n",
    "\"\"\"\n",
    "import numpy as np\n",
    "\n",
    "class Trapezoidal:\n",
    "    \n",
    "    def __init__(self, a, b, n):\n",
    "        self.a, self.b, self.n = a, b, n\n",
    "        self.points, self.weights = self.construct_method() # this function capture two results\n",
    "\n",
    "    def construct_method(self):\n",
    "        x = np.linspace(self.a, self.b, self.n)\n",
    "        h = (self.b - self.a)/float(self.n - 1)\n",
    "        w = np.zeros(len(x)) + h\n",
    "        w[0] /= 2\n",
    "        w[-1] /= 2\n",
    "        return x, w\n",
    "    \n",
    "    def integrate(self, f):\n",
    "        s = 0\n",
    "        for i in range(len(self.weights)):\n",
    "            s += self.weights[i]*f(self.points[i])\n",
    "        return s\n",
    "\n",
    "# Function f(x) must be defined before the \"integrate\" function call\n",
    "m = Trapezoidal(0, 2, 101)\n",
    "def f(x): return x*x\n",
    "print(m.integrate(f))"
   ]
  },
  {
   "cell_type": "code",
   "execution_count": null,
   "id": "ff87deee",
   "metadata": {},
   "outputs": [],
   "source": []
  }
 ],
 "metadata": {
  "kernelspec": {
   "display_name": "Python 3 (ipykernel)",
   "language": "python",
   "name": "python3"
  },
  "language_info": {
   "codemirror_mode": {
    "name": "ipython",
    "version": 3
   },
   "file_extension": ".py",
   "mimetype": "text/x-python",
   "name": "python",
   "nbconvert_exporter": "python",
   "pygments_lexer": "ipython3",
   "version": "3.7.6"
  }
 },
 "nbformat": 4,
 "nbformat_minor": 5
}
