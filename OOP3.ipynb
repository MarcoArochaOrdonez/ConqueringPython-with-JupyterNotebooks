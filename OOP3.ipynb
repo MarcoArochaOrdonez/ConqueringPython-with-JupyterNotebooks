{
 "cells": [
  {
   "cell_type": "markdown",
   "id": "f07f8fc6",
   "metadata": {},
   "source": [
    "# CLASSES AND OBJECTS-Part-3"
   ]
  },
  {
   "cell_type": "markdown",
   "id": "901dc11c",
   "metadata": {},
   "source": [
    "## Inheritance"
   ]
  },
  {
   "cell_type": "markdown",
   "id": "66cf5da5",
   "metadata": {},
   "source": [
    "- Inheritance is the capability of one class to derive or inherit the properties and attributes from another class.\n",
    "\n",
    "\n",
    "- **Parent class** is the class being inherited from, also called base class or superclass (lets use the last one).\n",
    "\n",
    "\n",
    "- **Child class** is the class that inherits from another class, also called derived class or subclass\n",
    "\n",
    "- **Benefits of inheritance are:** \n",
    "\n",
    "\n",
    "- **Reusability**: We don’t have to write the same code again and again. Also, it allows us to add more features to a class without modifying it.\n",
    "- **Transitive**: If class B inherits from another class A, then all the subclasses of B would automatically inherit from class A."
   ]
  },
  {
   "cell_type": "markdown",
   "id": "07545968",
   "metadata": {},
   "source": [
    "### Example-1\n",
    "- Assume that we have written a class for straight lines"
   ]
  },
  {
   "cell_type": "code",
   "execution_count": 2,
   "id": "fac8db0b",
   "metadata": {},
   "outputs": [
    {
     "name": "stdout",
     "output_type": "stream",
     "text": [
      "11\n",
      "           0            1\n",
      "         0.5            2\n",
      "           1            3\n",
      "\n"
     ]
    }
   ],
   "source": [
    "#\n",
    "class Line:\n",
    "    def __init__(self, c0, c1):\n",
    "        self.c0 = c0\n",
    "        self.c1 = c1\n",
    "    def __call__(self, x):\n",
    "        return self.c0 + self.c1*x\n",
    "    def table(self, L, R, n):\n",
    "        \"\"\"Return a table with n points for L <= x <= R.\"\"\"\n",
    "        s = ''\n",
    "        import numpy as np\n",
    "        for x in np.linspace(L, R, n):\n",
    "            y = self(x)\n",
    "            s += '%12g %12g\\n'%(x, y)\n",
    "        return s\n",
    "\n",
    "L=Line(1,2)  # instance with c0=1 and c1=2\n",
    "y=L(x=5)     # call to L1.__call__(5)\n",
    "print(y)\n",
    "print(L.table(0,1,3))\n"
   ]
  },
  {
   "cell_type": "markdown",
   "id": "e1290fec",
   "metadata": {},
   "source": [
    "- Assume that we have written a class for parabolas"
   ]
  },
  {
   "cell_type": "code",
   "execution_count": 3,
   "id": "4d933ae2",
   "metadata": {},
   "outputs": [
    {
     "name": "stdout",
     "output_type": "stream",
     "text": [
      "11.0\n",
      "           0            1\n",
      "         0.5            1\n",
      "           1            2\n",
      "\n"
     ]
    }
   ],
   "source": [
    "class Parabola:\n",
    "    def __init__(self, c0, c1, c2):\n",
    "        self.c0 = c0\n",
    "        self.c1 = c1\n",
    "        self.c2 = c2\n",
    "    def __call__(self, x):\n",
    "        return self.c2*x**2 + self.c1*x + self.c0\n",
    "    def table(self, L, R, n):\n",
    "        \"\"\"Return a table with n points for L <= x <= R.\"\"\"\n",
    "        s = ''\n",
    "        import numpy as np\n",
    "        for x in np.linspace(L, R, n):\n",
    "            y = self(x)\n",
    "            s += '%12g %12g\\n' % (x, y)\n",
    "        return s\n",
    "\n",
    "p=Parabola(1,-1,2)  # instance with c0=1, c2=-1, and c3=2\n",
    "p1=p(x=2.5)     # call to P1.__call__(2.5)\n",
    "print(p1)\n",
    "print(p.table(0,1,3))\n"
   ]
  },
  {
   "cell_type": "markdown",
   "id": "59fb90df",
   "metadata": {},
   "source": [
    "## Extending vs Restricting Functionality\n",
    "- Based in the mathematical relatonship between lines and parabolas we can use inheretance to save some code. For example, compare the class line and class Parabola, there is code which is similar (e.g., **def __ init __** and **def __ call __** ) and code which is exactlt the same (e.g., **def table**)\n",
    "- Inheritance can be used to **extend** or **restrict** the functionality of the superclass. \n",
    "- Any one of the Line or Parabola classes can be the superclass, then the other will be the subclass.\n"
   ]
  },
  {
   "cell_type": "markdown",
   "id": "e5695bc9",
   "metadata": {},
   "source": [
    "### Extending Functionality\n",
    "- Lets first show how to write class Parabola as a subclass of class Line, and implement just the new additional code that we need and that is not already written in the superclass Line:\n"
   ]
  },
  {
   "cell_type": "code",
   "execution_count": 4,
   "id": "68e98412",
   "metadata": {},
   "outputs": [
    {
     "name": "stdout",
     "output_type": "stream",
     "text": [
      "11.0\n",
      "           0            1\n",
      "         0.5            1\n",
      "           1            2\n",
      "\n"
     ]
    }
   ],
   "source": [
    "# Parent class: Line.  Child class: Parabola\n",
    "# Assuming that the class Line is as above with no modifications, then class Parabola is written:\n",
    "class Parabola(Line):\n",
    "    def __init__(self, c0, c1, c2):\n",
    "        Line.__init__(self, c0, c1) # let Line store c0 and c1\n",
    "        self.c2 = c2\n",
    "    def __call__(self, x):\n",
    "        return Line.__call__(self, x) + self.c2*x**2\n",
    "\n",
    "p = Parabola(1,-1,2) # instance\n",
    "p1 = p(x=2.5) # call to p.__call__(2.5)\n",
    "print(p1)\n",
    "print(p.table(0, 1, 3))"
   ]
  },
  {
   "cell_type": "markdown",
   "id": "74f89222",
   "metadata": {},
   "source": [
    "**Program Flow.** \n",
    "- Calling **Parabola(1, -1, 2)** leads to a call to the constructor method **__ init __** in the superclass Line, where the arguments c0, c1, and c2 takes values 1, −1, and 2, respectively. The self argument in the constructor is the object that will be returned and referred to by the variable **p**. \n",
    "- We can not use the constructor **__ ini __**, in the parent class as it is, to replace fully the initial attributes in the subclass Parabola as one parameter, c2, is missing. Inside the subclass Parabola constructor we call the constructor in superclass Line. In this  latter method, we create two attributes in the self object. Printing out dir(self) will explicitly demonstrate what self contains so far in the construction process. Back in class Parabola’s constructor, we add a third attribute c2 to the same self object. Then the self object is invisibly returned and referred to by p.\n",
    "\n",
    "- The other statement, p1 = p(x=2.5), has a similar program flow. First we enter the p.**__ call __** method with self as p and x valued 2.5. The program flow jumps to the **__ call __** method in the class Line for evaluating the linear part c0+c1x of the expression for the parabola, and then the flow jumps back to the **__ call __** method in class Parabola where we add the new quadratic term, **c2x^2** ."
   ]
  },
  {
   "cell_type": "markdown",
   "id": "7aa40afc",
   "metadata": {},
   "source": [
    "### Restricting Functionality"
   ]
  },
  {
   "cell_type": "markdown",
   "id": "f263fd75",
   "metadata": {},
   "source": [
    "- In our example of Parabola as a subclass of Line, we used inheritance to extend the functionality of the superclass (just like a child that works and helps its parents). \n",
    "- Inheritance can also be used for restricting functionality.\n",
    "- Mathematically a straight line is a special case of a parabola (with c2=0). Adopting this reasoning reverses the dependency of the classes: now it is more natural to let Line to be a subclass of the Parabola (Assuming line is a parabola with c2=0).\n"
   ]
  },
  {
   "cell_type": "markdown",
   "id": "416b1454",
   "metadata": {},
   "source": [
    "### Example-2"
   ]
  },
  {
   "cell_type": "code",
   "execution_count": 5,
   "id": "e4364375",
   "metadata": {},
   "outputs": [],
   "source": [
    "class Parabola: \n",
    "    def __init__(self, c0, c1, c2):\n",
    "        self.c0, self.c1, self.c2 = c0, c2, c2\n",
    "    def __call__(self, x):\n",
    "        return self.c0 + self.c1*x + self.c2*x**2\n",
    "    def table(self, L, R, n): # implemented as shown above\n",
    "        \"\"\"Return a table with n points for L <= x <= R.\"\"\"\n",
    "        s = ''\n",
    "        import numpy as np\n",
    "        for x in np.linspace(L, R, n):\n",
    "            y = self(x)\n",
    "            s += '%12g %12g\\n' % (x, y)\n",
    "        return s\n",
    "        \n",
    "        \n",
    "class Line(Parabola):\n",
    "    def __init__(self, c0, c1):\n",
    "        Parabola.__init__(self, c0, c1, 0)  # c2=0"
   ]
  },
  {
   "cell_type": "markdown",
   "id": "3a794c8a",
   "metadata": {},
   "source": [
    "### Example-3\n",
    "- Writte a superclass **Natural** for the sequence of natural numbers 0,1,2,...N, for our example, the seqeunce is limited to 0,1,2,3,...,10\n",
    "and subclasses for the sequence of (1) **even**, (2) **odd**, (3) **multiple of 3**, and (4) **primes**\n",
    "- This is an effort to teach the simplest example possible"
   ]
  },
  {
   "cell_type": "code",
   "execution_count": 6,
   "id": "68087ff7",
   "metadata": {},
   "outputs": [
    {
     "name": "stdout",
     "output_type": "stream",
     "text": [
      "[0, 1, 2, 3, 4, 5, 6, 7, 8, 9, 10]\n",
      "[0, 2, 4, 6, 8, 10]\n",
      "[1, 3, 5, 7, 9]\n",
      "[3, 6, 9]\n",
      "[2, 3, 5, 7]\n",
      "[2, 3, 5, 7]\n"
     ]
    }
   ],
   "source": [
    "\"\"\"\n",
    "natural_OOP.py\n",
    "Superclass/subclass examples\n",
    "In search of the simplest example possible\n",
    "\n",
    "Created on Fri Dec 17 09:22:12 2021\n",
    "@author: Marco\n",
    "\"\"\"\n",
    "\n",
    "class Natural:      # superclass\n",
    "    def __init__(self,a,b):\n",
    "        self.a=a\n",
    "        self.b=b\n",
    "    def constL(self):\n",
    "        L=[]\n",
    "        for k in range(self.a,self.b+1):\n",
    "            L.append(k)\n",
    "        return L\n",
    "\n",
    "N=Natural(0,10)  # i.e., a=0, b=10\n",
    "print(N.constL())\n",
    "\n",
    "class EvenVal(Natural):  # subclass\n",
    "    def EV(self):\n",
    "        EA=[]\n",
    "        for j in self.constL():\n",
    "            if j%2==0:\n",
    "                EA.append(j)\n",
    "        return EA\n",
    "        \n",
    "E=EvenVal(0,10)  # i.e., a=0, b=10\n",
    "print(E.EV())       \n",
    "\n",
    "class OddVal(Natural):  # subclass\n",
    "    def OV(self):\n",
    "        return [j for j in self.constL() if j%2!=0 ]\n",
    "\n",
    "O=OddVal(0,10)  # i.e., a=0, b=10\n",
    "print(O.OV()) \n",
    "\n",
    "class Mult3(Natural):  # subclass\n",
    "    def M3(self):\n",
    "        return [j for j in self.constL()[1:] if j%3==0 ]\n",
    "\n",
    "m3=Mult3(0,10)  # i.e., a=0, b=10\n",
    "print(m3.M3())\n",
    "\n",
    "class Primo(Natural):\n",
    "    # Searches for primes in a list\n",
    "    def PP(self):\n",
    "        PL=[]\n",
    "        for N in self.constL()[2:]:\n",
    "            flag=1\n",
    "            k=2\n",
    "            while k<=(N-1):\n",
    "                if N%k==0:\n",
    "                    flag=0\n",
    "                    break\n",
    "                k+=1\n",
    "            if flag==1:\n",
    "                PL.append(N)\n",
    "        return PL\n",
    "\n",
    "P=Primo(0,10)\n",
    "print(P.PP())\n",
    "\n",
    "class Primo2(Natural):\n",
    "    # Searches for primes in a list\n",
    "    def PP2(self):\n",
    "        from sympy import isprime\n",
    "        PL=[]\n",
    "        for N in self.constL():\n",
    "            if isprime(N):\n",
    "                PL.append(N)\n",
    "        return PL\n",
    "\n",
    "P=Primo2(0,10)\n",
    "print(P.PP2())"
   ]
  },
  {
   "cell_type": "markdown",
   "id": "a2788d7c",
   "metadata": {},
   "source": [
    "### Example-4\n",
    "- Assume that we have written a superclass X3 for the sequence of multiple of three numbers and a subclass for the square of multiple of 3. Is an extending or restricting functionality example?"
   ]
  },
  {
   "cell_type": "code",
   "execution_count": 7,
   "id": "22dfb6bd",
   "metadata": {},
   "outputs": [
    {
     "name": "stdout",
     "output_type": "stream",
     "text": [
      "[3, 6, 9, 12, 15, 18, 21, 24, 27, 30, 33, 36, 39, 42, 45, 48, 51, 54, 57, 60, 63, 66, 69, 72, 75, 78, 81, 84, 87, 90, 93, 96, 99]\n",
      "[9, 36, 81]\n"
     ]
    }
   ],
   "source": [
    "# Parent Class:\n",
    "class X3:\n",
    "    ''' Multiples of 3 class '''\n",
    "    def __init__(self, first, last):\n",
    "        self.first=first\n",
    "        self.last=last\n",
    "    def compX3(self):\n",
    "        m3=[]\n",
    "        for k in range(self.first,self.last+1):\n",
    "            if k%3==0:\n",
    "                m3.append(k)\n",
    "        return m3\n",
    "\n",
    "pm=X3(1,99)\n",
    "print(pm.compX3())\n",
    "\n",
    "# Child Class\n",
    "class X3E2(X3):\n",
    "    '''Square of multiple of 3 class'''\n",
    "    def compX3E2(self):\n",
    "        m3E2=[]\n",
    "        for item in self.compX3():\n",
    "            RR=item**2\n",
    "            if RR<=self.last:\n",
    "                m3E2.append(RR)\n",
    "        return m3E2\n",
    "\n",
    "cm=X3E2(1,99)\n",
    "print(cm.compX3E2())\n",
    "    "
   ]
  },
  {
   "cell_type": "code",
   "execution_count": null,
   "id": "c58e242a",
   "metadata": {},
   "outputs": [],
   "source": []
  }
 ],
 "metadata": {
  "kernelspec": {
   "display_name": "Python 3 (ipykernel)",
   "language": "python",
   "name": "python3"
  },
  "language_info": {
   "codemirror_mode": {
    "name": "ipython",
    "version": 3
   },
   "file_extension": ".py",
   "mimetype": "text/x-python",
   "name": "python",
   "nbconvert_exporter": "python",
   "pygments_lexer": "ipython3",
   "version": "3.7.6"
  }
 },
 "nbformat": 4,
 "nbformat_minor": 5
}
