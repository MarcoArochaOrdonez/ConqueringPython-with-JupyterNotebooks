{
 "cells": [
  {
   "cell_type": "markdown",
   "id": "6a74474b",
   "metadata": {},
   "source": [
    "This Jupyter Notebook is a new professor effort to deliver information about a topic and provide with a programming environment in which by using simple exercises the student can learn python programming.  In this interactive environment the professor can include (1) brief information about a topic, and (2) examples of executable python code, and on its side, the student (3) can execute the code and see the outcome. The student can also produce and run its own code.  Your code is not evaluated or graded, if it contains errors, there will be (I hope soon the professor's Jupyter notebooks can do that) . Everything you do it here, in the Jupyter Notebook, will be automatically saved as you type.  There is nothing wrong with leaving code with errors in it as long as a later time you comeback and keep working to correct them\n"
   ]
  },
  {
   "cell_type": "markdown",
   "id": "4d0aee50",
   "metadata": {},
   "source": [
    "# __DICTIONARies__ (a work in progress)"
   ]
  },
  {
   "cell_type": "markdown",
   "id": "13a9e8b7",
   "metadata": {},
   "source": [
    "- A dictionary is a collection of key-value pairs.\n",
    "- A KEY is similar to the \"index\" of an element in other collections.\n",
    "- Each key is connected to a VALUE, and you can use a key to access the value associated with that key, in the same way an index is connected to a value in other collections, e.g., arrays, lists, strings.\n",
    "- Usually a KEY is a number or string.  Any immutable type is allowed, e.g., a tuple. List are not allowed as they are mutable.\n",
    "- Tuples are allow as long as they do not contain Lists as elements\n",
    "- You can use any object that you can create in Python as a VALUE in a dictionary.\n",
    "- Key-value pairs follow only the insertion order (neither alphabetic nor numeric). Due to this behaivor some claims it is an \"unordered\" collection\n",
    "- In this lecture you should distinguish among: keys, values, items (key-value pairs, a convention in this lecture)"
   ]
  },
  {
   "cell_type": "markdown",
   "id": "efb24dff",
   "metadata": {},
   "source": [
    "CREATE A DICTONARY AND PRINT IT"
   ]
  },
  {
   "cell_type": "code",
   "execution_count": 54,
   "id": "b4bbee87",
   "metadata": {
    "scrolled": true
   },
   "outputs": [
    {
     "name": "stdout",
     "output_type": "stream",
     "text": [
      "Cars= {'Honda': 'Accord', 'Toyota': 'Corolla', 'BMW': '325i'}\n"
     ]
    }
   ],
   "source": [
    "# Several dictionary examples using assignment and braces:\n",
    "Cars={\"Honda\":\"Accord\",\"Toyota\":\"Corolla\",\"BMW\":\"325i\"}  # Car brand and model\n",
    "Profile = {'name': 'Albert', 'age': 70, 'addr': 'Indiana', 'hobby': 'Physics'} # Profile information\n",
    "telExt = {'jim': 5098, 'joe': 5139, 'jennifer':4567, 'pedro':6785,'pepe':5678,'papo':2345}  # telephone extension\n",
    "xy_points={1:2,2:4,3:6,4:8,5:10}  # (x,y) points in a graph where y=2*x and key:value are x-number:y-number pairs\n",
    "\n",
    "\n",
    "# To print a whole dictionay just invoke its name\n",
    "print(\"Cars=\",Cars)  # prints all items (key-value pairs) of Cars dictionary"
   ]
  },
  {
   "cell_type": "code",
   "execution_count": 55,
   "id": "a29f20f0",
   "metadata": {},
   "outputs": [
    {
     "data": {
      "text/plain": [
       "{'Honda': 'Accord', 'Toyota': 'Corolla', 'BMW': '325i'}"
      ]
     },
     "execution_count": 55,
     "metadata": {},
     "output_type": "execute_result"
    }
   ],
   "source": [
    "# In this Jupyter Notebbok we have TWO ways to produce output. \n",
    "# You can just type the variable you want to print.  Note the output is identified with its input\n",
    "Cars                                   # This will be the preferred method to allow output labels"
   ]
  },
  {
   "cell_type": "code",
   "execution_count": 56,
   "id": "209aec79",
   "metadata": {},
   "outputs": [
    {
     "data": {
      "text/plain": [
       "{'jim': 5098,\n",
       " 'joe': 5139,\n",
       " 'jennifer': 4567,\n",
       " 'pedro': 6785,\n",
       " 'pepe': 5678,\n",
       " 'papo': 2345}"
      ]
     },
     "execution_count": 56,
     "metadata": {},
     "output_type": "execute_result"
    }
   ],
   "source": [
    "# likewise:\n",
    "telExt"
   ]
  },
  {
   "cell_type": "code",
   "execution_count": 57,
   "id": "e892496d",
   "metadata": {},
   "outputs": [
    {
     "data": {
      "text/plain": [
       "{1: 2, 2: 4, 3: 6, 4: 8, 5: 10}"
      ]
     },
     "execution_count": 57,
     "metadata": {},
     "output_type": "execute_result"
    }
   ],
   "source": [
    "# likewise:\n",
    "xy_points"
   ]
  },
  {
   "cell_type": "code",
   "execution_count": 58,
   "id": "d1f7d8a6",
   "metadata": {},
   "outputs": [
    {
     "data": {
      "text/plain": [
       "{'cherry': 'red', 'banana': 'yellow', 'kiwie': 'green'}"
      ]
     },
     "execution_count": 58,
     "metadata": {},
     "output_type": "execute_result"
    }
   ],
   "source": [
    "# Use the dict library function: keyword arguments into a dict function to construct a dictionary\n",
    "Fruits=dict(cherry='red',banana='yellow',kiwie='green') \n",
    "Fruits"
   ]
  },
  {
   "cell_type": "markdown",
   "id": "51823657",
   "metadata": {},
   "source": [
    "- A dictionary is wrapped in braces, { }, with a collection of _key-value_ pairs inside the braces and separated by commas\n",
    "- The Fruits example shows fruits as keys and colors as values\n",
    "- Fruits is the dictionary name\n",
    "- The string 'cherry' is one of the key and its value is the string 'red'\n",
    "- The string  'banana' is a key and its value is the string 'yelow'\n",
    "- Here choosing which ones are the keys or the values it is a matter of convinience for the problem we are solving"
   ]
  },
  {
   "attachments": {
    "US%20Presidents.PNG": {
     "image/png": "[encoded data removed]"
    }
   },
   "cell_type": "markdown",
   "id": "5c2017af",
   "metadata": {},
   "source": [
    "Consider the following data:\n",
    "![US%20Presidents.PNG](attachment:US%20Presidents.PNG)"
   ]
  },
  {
   "cell_type": "code",
   "execution_count": 59,
   "id": "f50bea46",
   "metadata": {},
   "outputs": [],
   "source": [
    "# Exercise-1 Create and print the dictionary PRES which contains as keys\n",
    "# the Firstname Lastname of the first 3 US Presidents and as values their\n",
    "# presidency periods: PLACE YOUR CODE DOWN THIS CELL. You can run it while your pointer\n",
    "# is within the cell.\n"
   ]
  },
  {
   "attachments": {
    "XFX.PNG": {
     "image/png": "[encoded data removed]"
    }
   },
   "cell_type": "markdown",
   "id": "0dffc35b",
   "metadata": {},
   "source": [
    "Consider the following data:\n",
    "![XFX.PNG](attachment:XFX.PNG)"
   ]
  },
  {
   "cell_type": "code",
   "execution_count": 60,
   "id": "cd1bb19f",
   "metadata": {},
   "outputs": [],
   "source": [
    "# Exercise-2: Create and print the dictionary XFX (as in X:F(X), I.E., \n",
    "# x and f(x) ) which contains the data collection in the table above. \n",
    "# Place your code down this cell and run it.\n"
   ]
  },
  {
   "cell_type": "markdown",
   "id": "fe3b6e64",
   "metadata": {},
   "source": [
    "PRINT SPECIFIC ITEMS VALUES"
   ]
  },
  {
   "cell_type": "code",
   "execution_count": 61,
   "id": "c0c5414b",
   "metadata": {},
   "outputs": [
    {
     "name": "stdout",
     "output_type": "stream",
     "text": [
      "325i\n",
      "Corolla Accord\n",
      "green\n"
     ]
    }
   ],
   "source": [
    "# To print specific items values:\n",
    "print(Cars[\"BMW\"])   # you use the key \"BMW\" in Cars dictionary\n",
    "print(Cars[\"Toyota\"],Cars[\"Honda\"])\n",
    "print(Fruits[\"kiwie\"])\n",
    "\n",
    "# Please identify each line of output below with a print statement above"
   ]
  },
  {
   "cell_type": "code",
   "execution_count": 62,
   "id": "48aaf9a8",
   "metadata": {},
   "outputs": [],
   "source": [
    "# Exercise-3: Print the 3rd item value in the xy_points dictionary. \n",
    "# PLACE YOUR CODE down this cell and run it\n"
   ]
  },
  {
   "cell_type": "code",
   "execution_count": 63,
   "id": "f20b2dd5",
   "metadata": {},
   "outputs": [],
   "source": [
    "# Exercise-4: Print the item value in the Fruits dictionary with the\n",
    "# key 'banana'. PLACE YOUR CODE down this cell and run it\n"
   ]
  },
  {
   "cell_type": "markdown",
   "id": "a6f1ad6c",
   "metadata": {},
   "source": [
    "KEY, VALUE, ITEM-which one do you need?"
   ]
  },
  {
   "cell_type": "code",
   "execution_count": 64,
   "id": "f9a21b9b",
   "metadata": {},
   "outputs": [
    {
     "data": {
      "text/plain": [
       "dict_keys(['Honda', 'Toyota', 'BMW'])"
      ]
     },
     "execution_count": 64,
     "metadata": {},
     "output_type": "execute_result"
    }
   ],
   "source": [
    "# Lets use the Cars example for playing further \n",
    "\n",
    "# Print all the KEYS of a dictionary\n",
    "k=Cars.keys()  \n",
    "k                    # Get a VIEW of the KEYS as object"
   ]
  },
  {
   "cell_type": "code",
   "execution_count": 65,
   "id": "c45e383b",
   "metadata": {},
   "outputs": [
    {
     "data": {
      "text/plain": [
       "['Honda', 'Toyota', 'BMW']"
      ]
     },
     "execution_count": 65,
     "metadata": {},
     "output_type": "execute_result"
    }
   ],
   "source": [
    "kk=[*k]           # [*k] unpack the KEYS and construct a list.\n",
    "kk                # Print the keys as the LIST kk"
   ]
  },
  {
   "cell_type": "code",
   "execution_count": 66,
   "id": "b2ea6c09",
   "metadata": {},
   "outputs": [],
   "source": [
    "# Exercise-5: Print the keys of telExt dictionary. PLACE YOUR CODE HERE\n",
    "# and run it\n"
   ]
  },
  {
   "cell_type": "code",
   "execution_count": 67,
   "id": "ef53af8e",
   "metadata": {},
   "outputs": [
    {
     "name": "stdout",
     "output_type": "stream",
     "text": [
      "dict_values(['Accord', 'Corolla', '325i'])\n",
      "['Accord', 'Corolla', '325i']\n"
     ]
    }
   ],
   "source": [
    "# Print the all the VALUES of a dictionary\n",
    "v=Cars.values(); print(v) # Get a VIEW of the values\n",
    "vv=[*v]; print(vv) # print values as the LIST vv"
   ]
  },
  {
   "cell_type": "code",
   "execution_count": 68,
   "id": "fe88b3e7",
   "metadata": {},
   "outputs": [],
   "source": [
    "# Exercise-6: Print all the VALUES of the telExt dictionary. PLACE YOUR CODE HERE\n",
    "# and run it"
   ]
  },
  {
   "cell_type": "code",
   "execution_count": 69,
   "id": "f6a28eec",
   "metadata": {},
   "outputs": [
    {
     "name": "stdout",
     "output_type": "stream",
     "text": [
      "dict_items([('Honda', 'Accord'), ('Toyota', 'Corolla'), ('BMW', '325i')])\n",
      "[('Honda', 'Accord'), ('Toyota', 'Corolla'), ('BMW', '325i')]\n"
     ]
    }
   ],
   "source": [
    "# Unpack ITEMS and print them all\n",
    "item=Cars.items(); print(item)  # a VIEW of the ITEMS\n",
    "uitem=[*item]; print(uitem)  # unpack items; print ITEMS as a List"
   ]
  },
  {
   "cell_type": "code",
   "execution_count": 70,
   "id": "20cccea4",
   "metadata": {},
   "outputs": [],
   "source": [
    "# Exercise-7: Print the ITEMS of the telExt dictionary. PLACE YOUR CODE HERE\n"
   ]
  },
  {
   "cell_type": "code",
   "execution_count": 71,
   "id": "09feaf07",
   "metadata": {},
   "outputs": [],
   "source": [
    "# Exercise-7.b: Print the last item of the telExt dictionary.  Place your code here\n"
   ]
  },
  {
   "cell_type": "markdown",
   "id": "1a92aa99",
   "metadata": {},
   "source": [
    "ADD ONE  OR MORE KEY-VALUE PAIRS TO EXISTING DICCTIONARY"
   ]
  },
  {
   "cell_type": "code",
   "execution_count": 72,
   "id": "4e8902d1",
   "metadata": {},
   "outputs": [
    {
     "name": "stdout",
     "output_type": "stream",
     "text": [
      "Cars= {'Honda': 'Accord', 'Toyota': 'Corolla', 'BMW': '325i', 'Nissan': 'Rogue', 'Mitsubishi': 'Outlander', 'Porsche': 'Cayenne'}\n"
     ]
    }
   ],
   "source": [
    "Cars[\"Nissan\"]=\"Rogue\"  # Adds one new key-value pair to Cars dictionary\n",
    "Cars[\"Mitsubishi\"],Cars[\"Porsche\"]=\"Outlander\",\"Cayenne\"\n",
    "print(\"Cars=\",Cars)     # prints Cars with old + new elements (I.E., all elements)"
   ]
  },
  {
   "cell_type": "code",
   "execution_count": 73,
   "id": "cea3de1d",
   "metadata": {},
   "outputs": [],
   "source": [
    "# Exercise-8: Add the (key=6,value=12) pair to the XFX dictionary \n",
    "# of Exercise-2 and print the new XFX dict. PlACE YOUR CODE HERE\n"
   ]
  },
  {
   "cell_type": "markdown",
   "id": "f8bc01c4",
   "metadata": {},
   "source": [
    "ADD KEY-VALUE PAIRS TO EMPTY DICTIONARY"
   ]
  },
  {
   "cell_type": "code",
   "execution_count": 74,
   "id": "cccd1387",
   "metadata": {},
   "outputs": [
    {
     "name": "stdout",
     "output_type": "stream",
     "text": [
      "{'name': 'Albert', 'age': 70, 'addr': 'Indiana', 'hobby': 'Scientist'}\n"
     ]
    }
   ],
   "source": [
    "Profile={}          # Empty dictionary called Profile\n",
    "# Assume you get the first two key-value pairs\n",
    "Profile1 = {'name': 'Albert', 'age': 70}   \n",
    "\n",
    "# Assume you get new data from another source\n",
    "Profile2= {'addr': 'Indiana', 'hobby': 'Scientist'}\n",
    "\n",
    "# Update your original Profile dictionary with Profile1 and Profile2\n",
    "Profile.update(Profile1)\n",
    "Profile.update(Profile2)\n",
    "\n",
    "# Print your main dictionary\n",
    "print(Profile)"
   ]
  },
  {
   "cell_type": "code",
   "execution_count": 75,
   "id": "4f933c6c",
   "metadata": {},
   "outputs": [],
   "source": [
    "# Exercise-9. Add (key='wife','value'='Elsa Einstein') and (Key='birthYear',value=1879)\n",
    "# pairs to dict Profile using the update method. PlACE YOUR CODE DOWN HERE\n"
   ]
  },
  {
   "cell_type": "markdown",
   "id": "b48a1748",
   "metadata": {},
   "source": [
    "DICT COMPREHENSION TO CREATE DICTIONARIES"
   ]
  },
  {
   "cell_type": "code",
   "execution_count": 76,
   "id": "034616e2",
   "metadata": {},
   "outputs": [
    {
     "name": "stdout",
     "output_type": "stream",
     "text": [
      "{2: 4, 4: 16, 6: 36}\n"
     ]
    }
   ],
   "source": [
    "# In addition, dict comprehensions (similar to List Comprehensions) can be used to create dictionaries \n",
    "# from arbitrary key and value expressions:\n",
    "XFX={x: x**2 for x in [2, 4, 6]}\n",
    "print(XFX)\n",
    "\n",
    "# https://docs.python.org/3.7/tutorial/datastructures.html?highlight=dictionary#dictionaries"
   ]
  },
  {
   "cell_type": "code",
   "execution_count": 77,
   "id": "46e44195",
   "metadata": {},
   "outputs": [],
   "source": [
    "# Consider the following collection:\n"
   ]
  },
  {
   "attachments": {
    "XFX3.jpeg": {
     "image/jpeg": "[encoded data removed]"
    }
   },
   "cell_type": "markdown",
   "id": "43439262",
   "metadata": {},
   "source": [
    "![XFX3.jpeg](attachment:XFX3.jpeg)"
   ]
  },
  {
   "cell_type": "code",
   "execution_count": 78,
   "id": "72175fa1",
   "metadata": {},
   "outputs": [],
   "source": [
    "# Exercise-10: Create and print the dictionary XFX (as in X:F(X),\n",
    "# I.E., x and f(x) ) using dict comprehension which contains the\n",
    "# data collection in the table above:\n"
   ]
  },
  {
   "cell_type": "markdown",
   "id": "73acda7e",
   "metadata": {},
   "source": [
    "ITERATE OVER DICTIONARIES"
   ]
  },
  {
   "cell_type": "markdown",
   "id": "7fe65027",
   "metadata": {},
   "source": [
    "- When looping through dictionaries, the key and corresponding value can be retrieved at the same time, one-by-one, using the items() method."
   ]
  },
  {
   "cell_type": "code",
   "execution_count": 79,
   "id": "7f12be46",
   "metadata": {},
   "outputs": [
    {
     "name": "stdout",
     "output_type": "stream",
     "text": [
      "('name', 'Albert')\n",
      "('birthplace', 'Germany')\n",
      "('name', 'Albert')\n",
      "('birthplace', 'Germany')\n",
      "('education', 'PhD')\n",
      "('hobby', 'Physics')\n"
     ]
    }
   ],
   "source": [
    "# First dictionary\n",
    "D1 = {'name': 'Albert', 'birthplace': 'Germany'}\n",
    "\n",
    "# Second dictionary\n",
    "D2 = {'education': 'PhD', 'hobby': 'Physics'}\n",
    "\n",
    "# iterate over first dictionary\n",
    "for i in D1.items():\n",
    "  print(i)\n",
    "\n",
    "# iterate over two dictionaries\n",
    "for i in [*D1.items(),*D2.items()]: # [ ] group both dictionaries and * unpacked them\n",
    "  print(i)"
   ]
  },
  {
   "cell_type": "code",
   "execution_count": 80,
   "id": "c93a7f1f",
   "metadata": {},
   "outputs": [
    {
     "name": "stdout",
     "output_type": "stream",
     "text": [
      "Superman --- the strong\n",
      "Batman --- the smart\n",
      "Robin --- the brave\n",
      "Chespirito --- the gracious\n"
     ]
    }
   ],
   "source": [
    "# Separate keys from values\n",
    "knights = {'Superman':'the strong','Batman': 'the smart', 'Robin': 'the brave', 'Chespirito':'the gracious'}\n",
    "for k, v in knights.items():\n",
    "    print(k,'---', v)"
   ]
  },
  {
   "cell_type": "code",
   "execution_count": 81,
   "id": "9990bcc6",
   "metadata": {},
   "outputs": [],
   "source": [
    "# Exercise-11. Separate the keys and values in the dict XFX dictionary\n",
    "XFX={x: x**2 for x in [2, 4, 6, 8, 9]} # complete the code...\n"
   ]
  },
  {
   "cell_type": "markdown",
   "id": "77f5e320",
   "metadata": {},
   "source": [
    "- When looping through dictionaries (without the item() method) the return value are the keys, only"
   ]
  },
  {
   "cell_type": "code",
   "execution_count": 82,
   "id": "24274a0e",
   "metadata": {},
   "outputs": [
    {
     "name": "stdout",
     "output_type": "stream",
     "text": [
      "Superman\n",
      "Batman\n",
      "Robin\n",
      "Chespirito\n"
     ]
    }
   ],
   "source": [
    "for k in knights:\n",
    "    print(k)"
   ]
  },
  {
   "cell_type": "code",
   "execution_count": 83,
   "id": "a0741485",
   "metadata": {},
   "outputs": [],
   "source": [
    "# Exercise-12. By iteration separate the KEYS only in XFX dict:\n"
   ]
  },
  {
   "cell_type": "markdown",
   "id": "617460c0",
   "metadata": {},
   "source": [
    "- If ou want the values only, use the values method"
   ]
  },
  {
   "cell_type": "code",
   "execution_count": 84,
   "id": "68a7380d",
   "metadata": {},
   "outputs": [
    {
     "name": "stdout",
     "output_type": "stream",
     "text": [
      "the strong\n",
      "the smart\n",
      "the brave\n",
      "the gracious\n"
     ]
    }
   ],
   "source": [
    "for v in knights.values():\n",
    "    print(v)"
   ]
  },
  {
   "cell_type": "code",
   "execution_count": 85,
   "id": "50ee8c36",
   "metadata": {},
   "outputs": [],
   "source": [
    "# Exercise-12. By iteration separate the values only in XFX dict:\n"
   ]
  },
  {
   "cell_type": "markdown",
   "id": "73e2957d",
   "metadata": {},
   "source": [
    "EXTRACT DICTIONARIES TO APPEND KEY AND VALUES"
   ]
  },
  {
   "cell_type": "code",
   "execution_count": 86,
   "id": "3a3eedb2",
   "metadata": {},
   "outputs": [
    {
     "name": "stdout",
     "output_type": "stream",
     "text": [
      "{'jim': 5998, 'joe': 5139, 'jennifer': 4567, 'pedro': 6785, 'juan': 5678, 'mario': 2345}\n"
     ]
    }
   ],
   "source": [
    "telExt = {'jim': 5998, 'joe': 5139, 'jennifer':4567}  # telephone extension dictionary\n",
    "telExt1 = {'pedro':6785,'juan':5678,'mario':2345}\n",
    "\n",
    "# Append new dict content into orig dictionary\n",
    "telExt = {**telExt, **telExt1}\n",
    "\n",
    "# Check the content of the original dictionary\n",
    "print(telExt)"
   ]
  },
  {
   "cell_type": "markdown",
   "id": "72199aec",
   "metadata": {},
   "source": [
    "https://docs.python.org/3/tutorial/datastructures.html"
   ]
  },
  {
   "cell_type": "code",
   "execution_count": 87,
   "id": "6bf7c7ce",
   "metadata": {},
   "outputs": [],
   "source": [
    "# Exercise-13 By the ** (double asterisks) method append telExt2 to telExt:\n",
    "telExt2={'pepe':5555,'pepo':3333} # Complete the code\n"
   ]
  },
  {
   "cell_type": "markdown",
   "id": "4b60bf19",
   "metadata": {},
   "source": [
    "KEY?  WHAT CAN IT BE?"
   ]
  },
  {
   "cell_type": "markdown",
   "id": "fab744da",
   "metadata": {},
   "source": [
    "- Unlike sequences, which are indexed by a range of integer numbers, dictionaries are indexed by keys, which can be any immutable type \n",
    "- strings and numbers can always be keys. \n",
    "- Tuples can be used as keys if they contain only strings, numbers, or tuples; \n",
    "- if a tuple contains any mutable object either directly or indirectly, it cannot be used as a key. \n",
    "- You can’t use lists as keys, since lists can be modified in place using index assignments, slice assignments, or methods like append() and extend().\n",
    "- Keys must be unique (within one dictionary)\n",
    "- If you store using a key that is already in use, the old value associated with that key is forgotten. "
   ]
  },
  {
   "cell_type": "markdown",
   "id": "b56cd7d3",
   "metadata": {},
   "source": [
    "<font color=red>MAIN OPERATIONS USING DICTIONARIES</font>"
   ]
  },
  {
   "cell_type": "markdown",
   "id": "4cb846c9",
   "metadata": {},
   "source": [
    "- Create dictionaries\n",
    "- The main operations on a dictionary are storing a value with some key and extracting the value given the key. \n",
    "- Delete a key:value pair with del method \n",
    "- It is an error to extract a value using a non-existent key.\n"
   ]
  },
  {
   "cell_type": "code",
   "execution_count": 88,
   "id": "2417c32d",
   "metadata": {},
   "outputs": [
    {
     "name": "stdout",
     "output_type": "stream",
     "text": [
      "the smart\n",
      "{'Superman': 'the strong', 'Chespirito': 'the gracious', 'DonQuijote': 'the gentleman'}\n"
     ]
    }
   ],
   "source": [
    "knights = {'Superman':'the strong','Batman': 'the smart', 'Robin': 'the brave', 'Chespirito':'the gracious'}\n",
    "knights['DonQuijote']='the gentleman'  # Add one more item\n",
    "knights['Achilles']='the invencible'\n",
    "\n",
    "# Retrieve one item value\n",
    "print(knights['Batman'])\n",
    "\n",
    "# Delete one item\n",
    "del knights['Robin']\n",
    "\n",
    "# Deletes the item with specified key\n",
    "knights.pop('Batman')\n",
    "\n",
    "# Delete the last inserted item\n",
    "knights.popitem() # i.e., knighta['Achilles']\n",
    "print(knights)\n"
   ]
  },
  {
   "cell_type": "code",
   "execution_count": 89,
   "id": "7574c81c",
   "metadata": {},
   "outputs": [],
   "source": [
    "# Exercise-14. Delete the 'Thomas Jefferson' key item from PRES dict (see Ex#1)\n",
    "# using the del method. PLACE YOUR CODE DOWN HERE.\n"
   ]
  },
  {
   "cell_type": "markdown",
   "id": "fa03f76e",
   "metadata": {},
   "source": [
    "- Performing list(d) on a dictionary returns a list of all the keys used in the dictionary, in insertion order (if you want it sorted, just use sorted(d) instead). To check whether a single key is in the dictionary, use the in keyword."
   ]
  },
  {
   "cell_type": "code",
   "execution_count": 90,
   "id": "fae2b2c7",
   "metadata": {},
   "outputs": [
    {
     "name": "stdout",
     "output_type": "stream",
     "text": [
      "['Superman', 'Batman', 'Robin', 'Chespirito']\n",
      "['Batman', 'Chespirito', 'Robin', 'Superman']\n",
      "True\n",
      "False\n"
     ]
    }
   ],
   "source": [
    "knights = {'Superman':'the strong','Batman': 'the smart', 'Robin': 'the brave', 'Chespirito':'the gracious'}\n",
    "\n",
    "# Retrieve keys as list\n",
    "K=list(knights) # output: ['Superman', 'Batman', 'Robin', 'Chespirito']\n",
    "print(K)\n",
    "\n",
    "# Sort values on knights dictionary\n",
    "print(sorted(knights)) # output: ['Batman', 'Chespirito', 'Robin', 'Superman']\n",
    "\n",
    "# Check of a single key is in a dictionary\n",
    "print('Chespirito' in knights) # Output: True\n",
    "\n",
    "# Check of a single key is not in a dictionary\n",
    "print('Robin' not in knights) # Output: False"
   ]
  },
  {
   "cell_type": "code",
   "execution_count": 91,
   "id": "afc1c4c1",
   "metadata": {},
   "outputs": [],
   "source": [
    "# Exercise-15. Alphabetically sort the values on the following dict\n",
    "Cars={\"Honda\":\"Accord\",\"Toyota\":\"Corolla\",\"BMW\":\"325i\",\"Ferrari\":\"Diablo\"}\n",
    "# complete the code..\n"
   ]
  },
  {
   "cell_type": "code",
   "execution_count": 92,
   "id": "eaf030c6",
   "metadata": {},
   "outputs": [],
   "source": [
    "# Exercise-16. Check if the BMW key is in the Cars dictionary of Ex above\n",
    "# Place your code down here\n"
   ]
  },
  {
   "cell_type": "code",
   "execution_count": 93,
   "id": "b146c7b8",
   "metadata": {},
   "outputs": [
    {
     "name": "stdout",
     "output_type": "stream",
     "text": [
      "{}\n"
     ]
    }
   ],
   "source": [
    "knights = {'Superman':'the strong','Batman': 'the smart', 'Robin': 'the brave', 'Chespirito':'the gracious'}\n",
    "\n",
    "# Delete the whole dictionary\n",
    "del knights \n",
    "# if you print(knights) an error will ocurr\n",
    "# there is not longer a knights dictionary\n",
    "\n",
    "knights = {'Superman':'the strong','Batman': 'the smart', 'Robin': 'the brave', 'Chespirito':'the gracious'}\n",
    "\n",
    "# Empty the dictionary of its elements without erasing the dictionary\n",
    "knights.clear()\n",
    "print(knights)  # output is { } empty braces"
   ]
  },
  {
   "attachments": {
    "wordsNumbers.PNG": {
     "image/png": "[encoded data removed]"
    }
   },
   "cell_type": "markdown",
   "id": "a8655dc1",
   "metadata": {},
   "source": [
    "Consider the following data:\n",
    "![wordsNumbers.PNG](attachment:wordsNumbers.PNG)"
   ]
  },
  {
   "cell_type": "code",
   "execution_count": 94,
   "id": "ce5d7254",
   "metadata": {},
   "outputs": [
    {
     "name": "stdout",
     "output_type": "stream",
     "text": [
      "The number of letters in the password numbers is  16\n"
     ]
    }
   ],
   "source": [
    "# Exercise-17. Graduation Time\n",
    "# Construct the WN dictionary with the table above.  \n",
    "# Keys are the numbers and words are the values. \n",
    "# If the numbers in the password 3124 are written out in words: 'tres'+'uno'+'dos'+'cuatro'=16 letters\n",
    "# used in total. Write code to count the number of letters needed for any numeric password.\n",
    "WN={1:'uno',2:'dos',3:'tres',4:'cuatro',5:'cinco',6:'seis',7:'siete',8:'ocho',9:'nueve',0:'cero'}\n",
    "PW='3142'\n",
    "C=0 # counter of letter\n",
    "for num in PW:\n",
    "    for key in WN:\n",
    "        if int(num)==key:\n",
    "            C+=len(WN[key])\n",
    "print(\"The number of letters in the password numbers is \",C) # Below is the output"
   ]
  },
  {
   "cell_type": "markdown",
   "id": "727003c1",
   "metadata": {},
   "source": [
    "- REFERENCES: https://www.golinuxcloud.com/python-add-to-dictionary/\n",
    "\n",
    "More references to come"
   ]
  },
  {
   "cell_type": "markdown",
   "id": "20015b03",
   "metadata": {},
   "source": [
    "NEED GITHUB TO SHARE THIS JUPYTER NOTEBOOK: https://github.com/"
   ]
  }
 ],
 "metadata": {
  "kernelspec": {
   "display_name": "Python 3 (ipykernel)",
   "language": "python",
   "name": "python3"
  },
  "language_info": {
   "codemirror_mode": {
    "name": "ipython",
    "version": 3
   },
   "file_extension": ".py",
   "mimetype": "text/x-python",
   "name": "python",
   "nbconvert_exporter": "python",
   "pygments_lexer": "ipython3",
   "version": "3.8.5"
  }
 },
 "nbformat": 4,
 "nbformat_minor": 5
}
